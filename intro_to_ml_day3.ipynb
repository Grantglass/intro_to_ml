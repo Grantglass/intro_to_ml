{
 "cells": [
  {
   "cell_type": "markdown",
   "metadata": {},
   "source": [
    "## Supervised Learning\n",
    "## Case Study : Victorian Authors"
   ]
  },
  {
   "cell_type": "markdown",
   "metadata": {},
   "source": [
    "\n",
    "The dataset for this project originates from the [UCI Machine Learning Repository](https://archive.ics.uci.edu/ml/datasets/Victorian+Era+Authorship+Attribution#). "
   ]
  },
  {
   "cell_type": "code",
   "execution_count": 1,
   "metadata": {},
   "outputs": [
    {
     "data": {
      "text/html": [
       "<div>\n",
       "<style scoped>\n",
       "    .dataframe tbody tr th:only-of-type {\n",
       "        vertical-align: middle;\n",
       "    }\n",
       "\n",
       "    .dataframe tbody tr th {\n",
       "        vertical-align: top;\n",
       "    }\n",
       "\n",
       "    .dataframe thead th {\n",
       "        text-align: right;\n",
       "    }\n",
       "</style>\n",
       "<table border=\"1\" class=\"dataframe\">\n",
       "  <thead>\n",
       "    <tr style=\"text-align: right;\">\n",
       "      <th></th>\n",
       "      <th>text</th>\n",
       "      <th>author</th>\n",
       "    </tr>\n",
       "  </thead>\n",
       "  <tbody>\n",
       "    <tr>\n",
       "      <th>0</th>\n",
       "      <td>ou have time to listen i will give you the ent...</td>\n",
       "      <td>1</td>\n",
       "    </tr>\n",
       "  </tbody>\n",
       "</table>\n",
       "</div>"
      ],
      "text/plain": [
       "                                                text  author\n",
       "0  ou have time to listen i will give you the ent...       1"
      ]
     },
     "metadata": {},
     "output_type": "display_data"
    }
   ],
   "source": [
    "# Import libraries necessary for this project\n",
    "import numpy as np\n",
    "import pandas as pd\n",
    "from time import time\n",
    "from IPython.display import display # Allows the use of display() for DataFrames\n",
    "\n",
    "# Pretty display for notebooks\n",
    "%matplotlib inline\n",
    "\n",
    "# Load the Census dataset\n",
    "data = pd.read_csv(\"data-train.csv\")\n",
    "\n",
    "# Success - Display the first record\n",
    "display(data.head(n=1))\n",
    "\n",
    "import warnings\n",
    "warnings.filterwarnings('ignore')"
   ]
  },
  {
   "cell_type": "code",
   "execution_count": 2,
   "metadata": {},
   "outputs": [
    {
     "data": {
      "text/plain": [
       "53678"
      ]
     },
     "execution_count": 2,
     "metadata": {},
     "output_type": "execute_result"
    }
   ],
   "source": [
    "n_records = len(data.index)\n",
    "n_records"
   ]
  },
  {
   "cell_type": "code",
   "execution_count": 4,
   "metadata": {
    "scrolled": true
   },
   "outputs": [],
   "source": [
    "from nltk.tokenize import word_tokenize\n",
    "from nltk.corpus import stopwords\n",
    "#Remove all non-ASCII characters\n",
    "data[\"text\"] = data[\"text\"].str.replace(r\"[^\\x00-\\x7F]\", \"\", regex=True)\n",
    "#lowercase and tokenize\n",
    "text_list = [word_tokenize(r.lower()) for r in data.text]\n",
    "#remove stopwords\n",
    "stop_words = stopwords.words('english')\n",
    "text_list = [[word for word in text if word not in stop_words] for text in text_list]"
   ]
  },
  {
   "cell_type": "code",
   "execution_count": 5,
   "metadata": {},
   "outputs": [],
   "source": [
    "features = data['text']\n",
    "target = data['author']"
   ]
  },
  {
   "cell_type": "code",
   "execution_count": 21,
   "metadata": {
    "scrolled": true
   },
   "outputs": [
    {
     "name": "stdout",
     "output_type": "stream",
     "text": [
      "Training set has 42942 samples.\n",
      "Testing set has 10736 samples.\n"
     ]
    }
   ],
   "source": [
    "# Import train_test_split\n",
    "from sklearn.model_selection import train_test_split\n",
    "\n",
    "# Split the 'features' and 'income' data into training and testing sets\n",
    "X_train, X_test, y_train, y_test = train_test_split(features, \n",
    "                                                    target, \n",
    "                                                    test_size = 0.2, \n",
    "                                                    random_state = 0)\n",
    "\n",
    "# Show the results of the split\n",
    "print(\"Training set has {} samples.\".format(X_train.shape[0]))\n",
    "print(\"Testing set has {} samples.\".format(X_test.shape[0]))"
   ]
  },
  {
   "cell_type": "code",
   "execution_count": 25,
   "metadata": {},
   "outputs": [],
   "source": [
    "from sklearn.feature_extraction.text import CountVectorizer\n",
    "\n",
    "def dummy(doc):\n",
    "    return doc\n",
    "\n",
    "vect = CountVectorizer(tokenizer=dummy, preprocessor=dummy, decode_error = \"ignore\")\n",
    "dtm = vect.fit_transform(X_train)"
   ]
  },
  {
   "cell_type": "code",
   "execution_count": 26,
   "metadata": {},
   "outputs": [],
   "source": [
    "#supervised learning model from sklearn\n",
    "from sklearn.linear_model import SGDClassifier\n",
    "model = SGDClassifier()\n",
    "classif = model.fit(dtm, y_train)\n"
   ]
  },
  {
   "cell_type": "code",
   "execution_count": 29,
   "metadata": {},
   "outputs": [],
   "source": [
    "#Make Predictions on the Test Data\n",
    "dtm_test = vect.fit_transform(X_test)\n",
    "y_pred = classif.predict(dtm_test)"
   ]
  },
  {
   "cell_type": "code",
   "execution_count": 32,
   "metadata": {},
   "outputs": [
    {
     "data": {
      "image/png": "[encoded data removed]",
      "text/plain": [
       "<Figure size 432x288 with 2 Axes>"
      ]
     },
     "metadata": {
      "needs_background": "light"
     },
     "output_type": "display_data"
    }
   ],
   "source": [
    "\n",
    "#Evaluation Libraries\n",
    "import numpy as np\n",
    "import seaborn as sns\n",
    "from sklearn.metrics import confusion_matrix\n",
    "from sklearn.metrics import classification_report\n",
    "# count the number of labels\n",
    "labels = np.unique(y_pred)\n",
    "\n",
    "data = confusion_matrix(y_test, y_pred)\n",
    "df_cm = pd.DataFrame(data, columns=np.unique(y_test), index = np.unique(y_test))\n",
    "df_cm.index.name = 'Actual'\n",
    "df_cm.columns.name = 'Predicted'\n",
    "\n",
    "# use sns.heatmap on top of confusion_matrix to show the confusion matrix\n",
    "ax = sns.heatmap(df_cm)"
   ]
  },
  {
   "cell_type": "code",
   "execution_count": 33,
   "metadata": {},
   "outputs": [
    {
     "name": "stdout",
     "output_type": "stream",
     "text": [
      "              precision    recall  f1-score   support\n",
      "\n",
      "           1       0.43      0.02      0.03       193\n",
      "           2       0.00      0.00      0.00        67\n",
      "           3       0.00      0.00      0.00        29\n",
      "           4       0.12      0.15      0.13       292\n",
      "           6       0.00      0.00      0.00        82\n",
      "           8       0.68      0.21      0.32      1371\n",
      "           9       0.17      0.01      0.02       238\n",
      "          10       0.25      0.01      0.01       164\n",
      "          11       0.00      0.00      0.00        79\n",
      "          12       0.00      0.00      0.00       123\n",
      "          13       0.00      0.00      0.00        78\n",
      "          14       0.45      0.01      0.02       532\n",
      "          15       0.00      0.00      0.00       287\n",
      "          16       0.20      0.03      0.05        37\n",
      "          17       0.00      0.00      0.00       119\n",
      "          18       0.00      0.00      0.00       223\n",
      "          19       0.75      0.25      0.37       298\n",
      "          20       0.00      0.00      0.00       118\n",
      "          21       0.00      0.00      0.00       459\n",
      "          22       0.00      0.00      0.00       105\n",
      "          23       0.01      0.96      0.02        81\n",
      "          24       0.75      0.04      0.08        73\n",
      "          25       0.33      0.05      0.08       231\n",
      "          26       0.30      0.57      0.39       875\n",
      "          27       0.00      0.00      0.00        66\n",
      "          28       0.17      0.74      0.28       156\n",
      "          29       0.00      0.00      0.00       120\n",
      "          30       0.20      0.32      0.24       202\n",
      "          32       0.00      0.00      0.00       141\n",
      "          33       0.57      0.11      0.18       352\n",
      "          34       0.00      0.00      0.00        78\n",
      "          35       0.00      0.00      0.00       147\n",
      "          36       0.00      0.00      0.00       132\n",
      "          37       0.39      0.43      0.41       468\n",
      "          38       0.00      0.00      0.00       259\n",
      "          39       0.00      0.00      0.00       466\n",
      "          40       0.00      0.00      0.00       105\n",
      "          41       0.00      0.00      0.00       189\n",
      "          42       0.24      0.29      0.26       224\n",
      "          43       0.00      0.00      0.00       247\n",
      "          44       0.00      0.00      0.00        89\n",
      "          45       0.11      0.00      0.00       447\n",
      "          46       0.69      0.08      0.15       110\n",
      "          48       0.50      0.02      0.03       388\n",
      "          50       0.25      0.01      0.01       196\n",
      "\n",
      "    accuracy                           0.14     10736\n",
      "   macro avg       0.17      0.10      0.07     10736\n",
      "weighted avg       0.27      0.14      0.13     10736\n",
      "\n"
     ]
    }
   ],
   "source": [
    "print(classification_report(y_test, y_pred))"
   ]
  },
  {
   "cell_type": "code",
   "execution_count": null,
   "metadata": {},
   "outputs": [],
   "source": []
  }
 ],
 "metadata": {
  "kernelspec": {
   "display_name": "Python 3",
   "language": "python",
   "name": "python3"
  },
  "language_info": {
   "codemirror_mode": {
    "name": "ipython",
    "version": 3
   },
   "file_extension": ".py",
   "mimetype": "text/x-python",
   "name": "python",
   "nbconvert_exporter": "python",
   "pygments_lexer": "ipython3",
   "version": "3.7.10"
  }
 },
 "nbformat": 4,
 "nbformat_minor": 4
}
